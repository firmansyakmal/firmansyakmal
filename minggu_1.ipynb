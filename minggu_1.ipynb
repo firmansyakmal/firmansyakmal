{
 "cells": [
  {
   "cell_type": "markdown",
   "id": "df4ba40a",
   "metadata": {},
   "source": [
    "# Percobaan Jenis Variabel"
   ]
  },
  {
   "cell_type": "code",
   "execution_count": 24,
   "id": "5c7368ff",
   "metadata": {},
   "outputs": [],
   "source": [
    "angka = 2"
   ]
  },
  {
   "cell_type": "code",
   "execution_count": 2,
   "id": "5483e4d2",
   "metadata": {},
   "outputs": [
    {
     "data": {
      "text/plain": [
       "2"
      ]
     },
     "execution_count": 2,
     "metadata": {},
     "output_type": "execute_result"
    }
   ],
   "source": [
    "angka"
   ]
  },
  {
   "cell_type": "code",
   "execution_count": 4,
   "id": "306ab863",
   "metadata": {},
   "outputs": [],
   "source": [
    "angka = 3"
   ]
  },
  {
   "cell_type": "code",
   "execution_count": 6,
   "id": "570bb9f7",
   "metadata": {},
   "outputs": [
    {
     "data": {
      "text/plain": [
       "3"
      ]
     },
     "execution_count": 6,
     "metadata": {},
     "output_type": "execute_result"
    }
   ],
   "source": [
    "angka"
   ]
  },
  {
   "cell_type": "code",
   "execution_count": 7,
   "id": "9d598d37",
   "metadata": {},
   "outputs": [
    {
     "name": "stdout",
     "output_type": "stream",
     "text": [
      "8\n"
     ]
    }
   ],
   "source": [
    "angka1=3\n",
    "angka2=5\n",
    "angka3=angka1+angka2\n",
    "print(angka3)"
   ]
  },
  {
   "cell_type": "code",
   "execution_count": 10,
   "id": "0593e48d",
   "metadata": {},
   "outputs": [
    {
     "name": "stdout",
     "output_type": "stream",
     "text": [
      "243\n"
     ]
    }
   ],
   "source": [
    "angka4=angka1**angka2\n",
    "print(angka4)"
   ]
  },
  {
   "cell_type": "code",
   "execution_count": 18,
   "id": "8c70bbd4",
   "metadata": {},
   "outputs": [
    {
     "data": {
      "text/plain": [
       "100"
      ]
     },
     "execution_count": 18,
     "metadata": {},
     "output_type": "execute_result"
    }
   ],
   "source": [
    "10*10"
   ]
  },
  {
   "cell_type": "code",
   "execution_count": 19,
   "id": "fe1fcfcf",
   "metadata": {},
   "outputs": [
    {
     "data": {
      "text/plain": [
       "100.0"
      ]
     },
     "execution_count": 19,
     "metadata": {},
     "output_type": "execute_result"
    }
   ],
   "source": [
    "10*10.0"
   ]
  },
  {
   "cell_type": "code",
   "execution_count": 20,
   "id": "e5c38a7c",
   "metadata": {},
   "outputs": [
    {
     "data": {
      "text/plain": [
       "'13'"
      ]
     },
     "execution_count": 20,
     "metadata": {},
     "output_type": "execute_result"
    }
   ],
   "source": [
    "\"1\"+\"3\""
   ]
  },
  {
   "cell_type": "code",
   "execution_count": 21,
   "id": "9bf75e68",
   "metadata": {},
   "outputs": [
    {
     "ename": "TypeError",
     "evalue": "unsupported operand type(s) for -: 'str' and 'str'",
     "output_type": "error",
     "traceback": [
      "\u001b[1;31m---------------------------------------------------------------------------\u001b[0m",
      "\u001b[1;31mTypeError\u001b[0m                                 Traceback (most recent call last)",
      "\u001b[1;32m~\\AppData\\Local\\Temp/ipykernel_11632/2527148311.py\u001b[0m in \u001b[0;36m<module>\u001b[1;34m\u001b[0m\n\u001b[1;32m----> 1\u001b[1;33m \u001b[1;34m\"13\"\u001b[0m\u001b[1;33m-\u001b[0m\u001b[1;34m\"3\"\u001b[0m\u001b[1;33m\u001b[0m\u001b[1;33m\u001b[0m\u001b[0m\n\u001b[0m",
      "\u001b[1;31mTypeError\u001b[0m: unsupported operand type(s) for -: 'str' and 'str'"
     ]
    }
   ],
   "source": [
    "\"13\"-\"3\""
   ]
  },
  {
   "cell_type": "code",
   "execution_count": 22,
   "id": "64441afc",
   "metadata": {},
   "outputs": [
    {
     "ename": "TypeError",
     "evalue": "can't multiply sequence by non-int of type 'str'",
     "output_type": "error",
     "traceback": [
      "\u001b[1;31m---------------------------------------------------------------------------\u001b[0m",
      "\u001b[1;31mTypeError\u001b[0m                                 Traceback (most recent call last)",
      "\u001b[1;32m~\\AppData\\Local\\Temp/ipykernel_11632/1137363115.py\u001b[0m in \u001b[0;36m<module>\u001b[1;34m\u001b[0m\n\u001b[1;32m----> 1\u001b[1;33m \u001b[1;34m\"1\"\u001b[0m\u001b[1;33m*\u001b[0m\u001b[1;34m\"3\"\u001b[0m\u001b[1;33m\u001b[0m\u001b[1;33m\u001b[0m\u001b[0m\n\u001b[0m",
      "\u001b[1;31mTypeError\u001b[0m: can't multiply sequence by non-int of type 'str'"
     ]
    }
   ],
   "source": [
    "\"1\"*\"3\""
   ]
  },
  {
   "cell_type": "code",
   "execution_count": 23,
   "id": "4f13d761",
   "metadata": {},
   "outputs": [
    {
     "data": {
      "text/plain": [
       "'111'"
      ]
     },
     "execution_count": 23,
     "metadata": {},
     "output_type": "execute_result"
    }
   ],
   "source": [
    "\"1\"*3"
   ]
  },
  {
   "cell_type": "markdown",
   "id": "4431293a",
   "metadata": {},
   "source": [
    "   "
   ]
  },
  {
   "cell_type": "markdown",
   "id": "8fc58064",
   "metadata": {},
   "source": [
    "# Struktur Data"
   ]
  },
  {
   "cell_type": "markdown",
   "id": "d99c124f",
   "metadata": {},
   "source": [
    "## 2.1 List\n",
    "\n",
    "Elemen yang bisa diganti isinya. Penandanya pakai kurung siku [ ]"
   ]
  },
  {
   "cell_type": "code",
   "execution_count": 37,
   "id": "f27ad517",
   "metadata": {},
   "outputs": [
    {
     "name": "stdout",
     "output_type": "stream",
     "text": [
      "[34.0, 35.0, 34.3, 32.0, 31.1, 29.0]\n"
     ]
    }
   ],
   "source": [
    "suhu_24h=[34.0, 35.0, 34.3, 32.0, 31.1, 29.0]\n",
    "print(suhu_24h)"
   ]
  },
  {
   "cell_type": "code",
   "execution_count": 26,
   "id": "875becfa",
   "metadata": {},
   "outputs": [
    {
     "name": "stdout",
     "output_type": "stream",
     "text": [
      "34.3\n"
     ]
    }
   ],
   "source": [
    "pengukuran_3=suhu_24h[2]\n",
    "print(pengukuran_3)"
   ]
  },
  {
   "cell_type": "code",
   "execution_count": 27,
   "id": "11365ea5",
   "metadata": {},
   "outputs": [
    {
     "name": "stdout",
     "output_type": "stream",
     "text": [
      "29.0\n"
     ]
    }
   ],
   "source": [
    "pengukuran_terakhir=suhu_24h[-1]\n",
    "print(pengukuran_terakhir)"
   ]
  },
  {
   "cell_type": "code",
   "execution_count": 28,
   "id": "fecf4cc2",
   "metadata": {},
   "outputs": [
    {
     "name": "stdout",
     "output_type": "stream",
     "text": [
      "[34.0, 35.0]\n"
     ]
    }
   ],
   "source": [
    "pengukuran_1dan2=suhu_24h[0:2]\n",
    "print(pengukuran_1dan2)"
   ]
  },
  {
   "cell_type": "markdown",
   "id": "4ea1e6c6",
   "metadata": {},
   "source": [
    "Yang atas ini kayanya dia ngambil data dimulai dari indeks 0 dan jumlah data yang diambil adalah 2. Jadi yang keambil data berindeks 0 sama 1. Bukan 0 sama 2."
   ]
  },
  {
   "cell_type": "code",
   "execution_count": 38,
   "id": "4e578474",
   "metadata": {},
   "outputs": [
    {
     "name": "stdout",
     "output_type": "stream",
     "text": [
      "[37.0, 35.0, 34.3, 32.0, 31.1, 29.0]\n"
     ]
    }
   ],
   "source": [
    "suhu_24h[0]=37.0\n",
    "print(suhu_24h)"
   ]
  },
  {
   "cell_type": "markdown",
   "id": "1ae1ac9a",
   "metadata": {},
   "source": [
    "Ini mengganti elemen _list_ pada indeks tertentu"
   ]
  },
  {
   "cell_type": "code",
   "execution_count": 39,
   "id": "a1f4ff0f",
   "metadata": {},
   "outputs": [
    {
     "name": "stdout",
     "output_type": "stream",
     "text": [
      "list sebelum di-pop [37.0, 35.0, 34.3, 32.0, 31.1, 29.0]\n",
      "elemen yang dihapus 29.0\n",
      "list setelah di pop [37.0, 35.0, 34.3, 32.0, 31.1]\n",
      "elemen yang dihapus 32.0\n",
      "list setelah di pop lagi [37.0, 35.0, 34.3, 31.1]\n"
     ]
    }
   ],
   "source": [
    "print(\"list sebelum di-pop\", suhu_24h)\n",
    "elemen_hapus1=suhu_24h.pop()\n",
    "print(\"elemen yang dihapus\", elemen_hapus1)\n",
    "print(\"list setelah di pop\", suhu_24h)\n",
    "elemen_hapus2=suhu_24h.pop(-2)\n",
    "print(\"elemen yang dihapus\", elemen_hapus2)\n",
    "print(\"list setelah di pop lagi\", suhu_24h)"
   ]
  },
  {
   "cell_type": "markdown",
   "id": "20f5ec27",
   "metadata": {},
   "source": [
    "Jadi __pop__ itu kalau kosong menghapus elemen paling belakang. Kalau dikasih indeks, ya bakal menghapus sesuai indeksnya."
   ]
  },
  {
   "cell_type": "markdown",
   "id": "1b402535",
   "metadata": {},
   "source": [
    "  "
   ]
  },
  {
   "cell_type": "markdown",
   "id": "d2f14025",
   "metadata": {},
   "source": [
    "## 2.1 Tuple"
   ]
  },
  {
   "cell_type": "markdown",
   "id": "8ba9c923",
   "metadata": {},
   "source": [
    "Elemen yang isinya gak bisa diganti. Penandanya adalah tanda kurung lengkung ()."
   ]
  },
  {
   "cell_type": "code",
   "execution_count": 40,
   "id": "35332ceb",
   "metadata": {},
   "outputs": [
    {
     "name": "stdout",
     "output_type": "stream",
     "text": [
      "37.0\n"
     ]
    }
   ],
   "source": [
    "suhu_24h_lock=(37.0, 35.0, 34.3, 32.0, 31.1, 29.0)\n",
    "pengukuran_1=suhu_24h_lock[0]\n",
    "print(pengukuran_1)"
   ]
  },
  {
   "cell_type": "markdown",
   "id": "93e12632",
   "metadata": {},
   "source": [
    "Catatan : __mau manggil sesuatu dengan indeksnya, selalu pakai kurung siku!__\n",
    "\n",
    "Dibawah ini tanda kalau _tuple_ gak bisa diedit"
   ]
  },
  {
   "cell_type": "code",
   "execution_count": 41,
   "id": "833cf50f",
   "metadata": {},
   "outputs": [
    {
     "ename": "TypeError",
     "evalue": "'tuple' object does not support item assignment",
     "output_type": "error",
     "traceback": [
      "\u001b[1;31m---------------------------------------------------------------------------\u001b[0m",
      "\u001b[1;31mTypeError\u001b[0m                                 Traceback (most recent call last)",
      "\u001b[1;32m~\\AppData\\Local\\Temp/ipykernel_11632/2770928713.py\u001b[0m in \u001b[0;36m<module>\u001b[1;34m\u001b[0m\n\u001b[1;32m----> 1\u001b[1;33m \u001b[0msuhu_24h_lock\u001b[0m\u001b[1;33m[\u001b[0m\u001b[1;36m0\u001b[0m\u001b[1;33m]\u001b[0m\u001b[1;33m=\u001b[0m\u001b[1;36m29.0\u001b[0m\u001b[1;33m\u001b[0m\u001b[1;33m\u001b[0m\u001b[0m\n\u001b[0m",
      "\u001b[1;31mTypeError\u001b[0m: 'tuple' object does not support item assignment"
     ]
    }
   ],
   "source": [
    "suhu_24h_lock[0]=29.0"
   ]
  },
  {
   "cell_type": "markdown",
   "id": "2e34f761",
   "metadata": {},
   "source": [
    "Tuh error kan! :)"
   ]
  },
  {
   "cell_type": "markdown",
   "id": "a5c36b6d",
   "metadata": {},
   "source": [
    "  "
   ]
  },
  {
   "cell_type": "markdown",
   "id": "5069f11b",
   "metadata": {},
   "source": [
    "## 2.3 Sets"
   ]
  },
  {
   "cell_type": "markdown",
   "id": "313016b3",
   "metadata": {},
   "source": [
    "Elemen yang gak urut, tidak bisa diubah isinya, tapi bisanya ditambahkan dan pas di _run_ nanti akan jadi urut. Gak boleh ada yang duplikat. Penandanya kurung kurawal {}."
   ]
  },
  {
   "cell_type": "code",
   "execution_count": 42,
   "id": "f904ce94",
   "metadata": {},
   "outputs": [
    {
     "data": {
      "text/plain": [
       "{'bayam', 'seledri', 'tomat'}"
      ]
     },
     "execution_count": 42,
     "metadata": {},
     "output_type": "execute_result"
    }
   ],
   "source": [
    "sayur={\"seledri\", \"tomat\", \"bayam\"}\n",
    "sayur"
   ]
  },
  {
   "cell_type": "code",
   "execution_count": 46,
   "id": "1a62bba4",
   "metadata": {},
   "outputs": [
    {
     "name": "stdout",
     "output_type": "stream",
     "text": [
      "{'tomat', 'seledri', 'bayam'}\n"
     ]
    },
    {
     "data": {
      "text/plain": [
       "{'bayam', 'seledri', 'tomat'}"
      ]
     },
     "execution_count": 46,
     "metadata": {},
     "output_type": "execute_result"
    }
   ],
   "source": [
    "sayur={\"seledri\", \"tomat\", \"bayam\", \"tomat\"}\n",
    "print(sayur)\n",
    "sayur"
   ]
  },
  {
   "cell_type": "markdown",
   "id": "c3ce6abc",
   "metadata": {},
   "source": [
    "kalau di _run_ pakai __print__ sama ngetikkan variabelnya aja, beda hasil ternyata. Kalau __print__ dia dicetak sesuai yang dikasih, kalau variabelnya aja, dia bakal diurutkan. Dibawah ini cara nambahin elemen, bukan mengganti."
   ]
  },
  {
   "cell_type": "code",
   "execution_count": 47,
   "id": "c24c3d36",
   "metadata": {},
   "outputs": [
    {
     "data": {
      "text/plain": [
       "{'bayam', 'kol', 'seledri', 'tomat'}"
      ]
     },
     "execution_count": 47,
     "metadata": {},
     "output_type": "execute_result"
    }
   ],
   "source": [
    "sayur.add(\"kol\")\n",
    "sayur"
   ]
  },
  {
   "cell_type": "markdown",
   "id": "36bd0909",
   "metadata": {},
   "source": [
    "Dibawah ini adalah operasi dari \"sets\""
   ]
  },
  {
   "cell_type": "code",
   "execution_count": 48,
   "id": "cbe586a9",
   "metadata": {},
   "outputs": [
    {
     "data": {
      "text/plain": [
       "{'apel', 'jeruk', 'tomat'}"
      ]
     },
     "execution_count": 48,
     "metadata": {},
     "output_type": "execute_result"
    }
   ],
   "source": [
    "buah={\"tomat\", \"apel\", \"jeruk\"}\n",
    "buah"
   ]
  },
  {
   "cell_type": "markdown",
   "id": "e5eb44b1",
   "metadata": {},
   "source": [
    "Melihat dua elemen yg beririsan, berbeda, dan menggabungkan."
   ]
  },
  {
   "cell_type": "code",
   "execution_count": 49,
   "id": "0c480196",
   "metadata": {},
   "outputs": [
    {
     "data": {
      "text/plain": [
       "{'tomat'}"
      ]
     },
     "execution_count": 49,
     "metadata": {},
     "output_type": "execute_result"
    }
   ],
   "source": [
    "sayur.intersection(buah)"
   ]
  },
  {
   "cell_type": "code",
   "execution_count": 50,
   "id": "983c4462",
   "metadata": {},
   "outputs": [
    {
     "data": {
      "text/plain": [
       "{'bayam', 'kol', 'seledri'}"
      ]
     },
     "execution_count": 50,
     "metadata": {},
     "output_type": "execute_result"
    }
   ],
   "source": [
    "sayur.difference(buah)"
   ]
  },
  {
   "cell_type": "code",
   "execution_count": 51,
   "id": "fb0ad747",
   "metadata": {},
   "outputs": [
    {
     "data": {
      "text/plain": [
       "{'apel', 'bayam', 'jeruk', 'kol', 'seledri', 'tomat'}"
      ]
     },
     "execution_count": 51,
     "metadata": {},
     "output_type": "execute_result"
    }
   ],
   "source": [
    "sayur.union(buah)"
   ]
  },
  {
   "cell_type": "markdown",
   "id": "ed90f353",
   "metadata": {},
   "source": [
    "  "
   ]
  },
  {
   "cell_type": "markdown",
   "id": "4f53356e",
   "metadata": {},
   "source": [
    "## 2.4 Dictionary"
   ]
  },
  {
   "cell_type": "markdown",
   "id": "f1a301b7",
   "metadata": {},
   "source": [
    "Kaya judul data + isi datanya gitu, tapi dalam 1 variabel"
   ]
  },
  {
   "cell_type": "code",
   "execution_count": 52,
   "id": "f57e3500",
   "metadata": {},
   "outputs": [
    {
     "name": "stdout",
     "output_type": "stream",
     "text": [
      "{'waktu_menit': [10, 20, 30], 'suhu': [29, 30, 27]}\n"
     ]
    }
   ],
   "source": [
    "pengukuran_suhu={\"waktu_menit\":[10,20,30], \"suhu\":[29,30,27]}\n",
    "print(pengukuran_suhu)"
   ]
  },
  {
   "cell_type": "markdown",
   "id": "8f32be2b",
   "metadata": {},
   "source": [
    "\"waktu_menit\" sama \"suhu\" itu namanya _keys_ data. Nah kalau mau ambil data, bisanya pakai _keys_ itu, gak bisa pakai indeks kaya sebelumnya. Hasil pemanggilannya itu adalah _list_. Nah baru di _list_ itu bisa dipanggil pakai indeks"
   ]
  },
  {
   "cell_type": "code",
   "execution_count": 53,
   "id": "4ed77db5",
   "metadata": {},
   "outputs": [
    {
     "data": {
      "text/plain": [
       "[10, 20, 30]"
      ]
     },
     "execution_count": 53,
     "metadata": {},
     "output_type": "execute_result"
    }
   ],
   "source": [
    "waktu_pengukuran=pengukuran_suhu['waktu_menit']\n",
    "waktu_pengukuran"
   ]
  },
  {
   "cell_type": "code",
   "execution_count": 54,
   "id": "cd4f0c54",
   "metadata": {},
   "outputs": [
    {
     "data": {
      "text/plain": [
       "30"
      ]
     },
     "execution_count": 54,
     "metadata": {},
     "output_type": "execute_result"
    }
   ],
   "source": [
    "waktu_pengukuran[2]"
   ]
  },
  {
   "cell_type": "markdown",
   "id": "13e9c944",
   "metadata": {},
   "source": [
    "  "
   ]
  },
  {
   "cell_type": "markdown",
   "id": "c2b3a661",
   "metadata": {},
   "source": [
    "# Conditional"
   ]
  },
  {
   "cell_type": "code",
   "execution_count": null,
   "id": "c5e78f08",
   "metadata": {},
   "outputs": [],
   "source": []
  }
 ],
 "metadata": {
  "kernelspec": {
   "display_name": "Python 3 (ipykernel)",
   "language": "python",
   "name": "python3"
  },
  "language_info": {
   "codemirror_mode": {
    "name": "ipython",
    "version": 3
   },
   "file_extension": ".py",
   "mimetype": "text/x-python",
   "name": "python",
   "nbconvert_exporter": "python",
   "pygments_lexer": "ipython3",
   "version": "3.9.7"
  }
 },
 "nbformat": 4,
 "nbformat_minor": 5
}
