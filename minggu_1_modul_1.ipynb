{
 "cells": [
  {
   "cell_type": "markdown",
   "id": "df4ba40a",
   "metadata": {},
   "source": [
    "# Percobaan Jenis Variabel"
   ]
  },
  {
   "cell_type": "code",
   "execution_count": 24,
   "id": "5c7368ff",
   "metadata": {},
   "outputs": [],
   "source": [
    "angka = 2"
   ]
  },
  {
   "cell_type": "code",
   "execution_count": 2,
   "id": "5483e4d2",
   "metadata": {},
   "outputs": [
    {
     "data": {
      "text/plain": [
       "2"
      ]
     },
     "execution_count": 2,
     "metadata": {},
     "output_type": "execute_result"
    }
   ],
   "source": [
    "angka"
   ]
  },
  {
   "cell_type": "code",
   "execution_count": 4,
   "id": "306ab863",
   "metadata": {},
   "outputs": [],
   "source": [
    "angka = 3"
   ]
  },
  {
   "cell_type": "code",
   "execution_count": 6,
   "id": "570bb9f7",
   "metadata": {},
   "outputs": [
    {
     "data": {
      "text/plain": [
       "3"
      ]
     },
     "execution_count": 6,
     "metadata": {},
     "output_type": "execute_result"
    }
   ],
   "source": [
    "angka"
   ]
  },
  {
   "cell_type": "code",
   "execution_count": 7,
   "id": "9d598d37",
   "metadata": {},
   "outputs": [
    {
     "name": "stdout",
     "output_type": "stream",
     "text": [
      "8\n"
     ]
    }
   ],
   "source": [
    "angka1=3\n",
    "angka2=5\n",
    "angka3=angka1+angka2\n",
    "print(angka3)"
   ]
  },
  {
   "cell_type": "code",
   "execution_count": 10,
   "id": "0593e48d",
   "metadata": {},
   "outputs": [
    {
     "name": "stdout",
     "output_type": "stream",
     "text": [
      "243\n"
     ]
    }
   ],
   "source": [
    "angka4=angka1**angka2\n",
    "print(angka4)"
   ]
  },
  {
   "cell_type": "code",
   "execution_count": 18,
   "id": "8c70bbd4",
   "metadata": {},
   "outputs": [
    {
     "data": {
      "text/plain": [
       "100"
      ]
     },
     "execution_count": 18,
     "metadata": {},
     "output_type": "execute_result"
    }
   ],
   "source": [
    "10*10"
   ]
  },
  {
   "cell_type": "code",
   "execution_count": 19,
   "id": "fe1fcfcf",
   "metadata": {},
   "outputs": [
    {
     "data": {
      "text/plain": [
       "100.0"
      ]
     },
     "execution_count": 19,
     "metadata": {},
     "output_type": "execute_result"
    }
   ],
   "source": [
    "10*10.0"
   ]
  },
  {
   "cell_type": "code",
   "execution_count": 20,
   "id": "e5c38a7c",
   "metadata": {},
   "outputs": [
    {
     "data": {
      "text/plain": [
       "'13'"
      ]
     },
     "execution_count": 20,
     "metadata": {},
     "output_type": "execute_result"
    }
   ],
   "source": [
    "\"1\"+\"3\""
   ]
  },
  {
   "cell_type": "code",
   "execution_count": 21,
   "id": "9bf75e68",
   "metadata": {},
   "outputs": [
    {
     "ename": "TypeError",
     "evalue": "unsupported operand type(s) for -: 'str' and 'str'",
     "output_type": "error",
     "traceback": [
      "\u001b[1;31m---------------------------------------------------------------------------\u001b[0m",
      "\u001b[1;31mTypeError\u001b[0m                                 Traceback (most recent call last)",
      "\u001b[1;32m~\\AppData\\Local\\Temp/ipykernel_11632/2527148311.py\u001b[0m in \u001b[0;36m<module>\u001b[1;34m\u001b[0m\n\u001b[1;32m----> 1\u001b[1;33m \u001b[1;34m\"13\"\u001b[0m\u001b[1;33m-\u001b[0m\u001b[1;34m\"3\"\u001b[0m\u001b[1;33m\u001b[0m\u001b[1;33m\u001b[0m\u001b[0m\n\u001b[0m",
      "\u001b[1;31mTypeError\u001b[0m: unsupported operand type(s) for -: 'str' and 'str'"
     ]
    }
   ],
   "source": [
    "\"13\"-\"3\""
   ]
  },
  {
   "cell_type": "code",
   "execution_count": 22,
   "id": "64441afc",
   "metadata": {},
   "outputs": [
    {
     "ename": "TypeError",
     "evalue": "can't multiply sequence by non-int of type 'str'",
     "output_type": "error",
     "traceback": [
      "\u001b[1;31m---------------------------------------------------------------------------\u001b[0m",
      "\u001b[1;31mTypeError\u001b[0m                                 Traceback (most recent call last)",
      "\u001b[1;32m~\\AppData\\Local\\Temp/ipykernel_11632/1137363115.py\u001b[0m in \u001b[0;36m<module>\u001b[1;34m\u001b[0m\n\u001b[1;32m----> 1\u001b[1;33m \u001b[1;34m\"1\"\u001b[0m\u001b[1;33m*\u001b[0m\u001b[1;34m\"3\"\u001b[0m\u001b[1;33m\u001b[0m\u001b[1;33m\u001b[0m\u001b[0m\n\u001b[0m",
      "\u001b[1;31mTypeError\u001b[0m: can't multiply sequence by non-int of type 'str'"
     ]
    }
   ],
   "source": [
    "\"1\"*\"3\""
   ]
  },
  {
   "cell_type": "code",
   "execution_count": 23,
   "id": "4f13d761",
   "metadata": {},
   "outputs": [
    {
     "data": {
      "text/plain": [
       "'111'"
      ]
     },
     "execution_count": 23,
     "metadata": {},
     "output_type": "execute_result"
    }
   ],
   "source": [
    "\"1\"*3"
   ]
  },
  {
   "cell_type": "markdown",
   "id": "4431293a",
   "metadata": {},
   "source": [
    "======================================================"
   ]
  },
  {
   "cell_type": "markdown",
   "id": "8fc58064",
   "metadata": {},
   "source": [
    "# Struktur Data"
   ]
  },
  {
   "cell_type": "markdown",
   "id": "d99c124f",
   "metadata": {},
   "source": [
    "## 2.1 List\n",
    "\n",
    "Elemen yang bisa diganti isinya. Penandanya pakai kurung siku [ ]"
   ]
  },
  {
   "cell_type": "code",
   "execution_count": 7,
   "id": "f27ad517",
   "metadata": {},
   "outputs": [
    {
     "name": "stdout",
     "output_type": "stream",
     "text": [
      "[34.0, 35.0, 34.3, 32.0, 31.1, 29.0]\n"
     ]
    }
   ],
   "source": [
    "suhu_24h=[34.0, 35.0, 34.3, 32.0, 31.1, 29.0]\n",
    "print(suhu_24h)"
   ]
  },
  {
   "cell_type": "code",
   "execution_count": 26,
   "id": "875becfa",
   "metadata": {},
   "outputs": [
    {
     "name": "stdout",
     "output_type": "stream",
     "text": [
      "34.3\n"
     ]
    }
   ],
   "source": [
    "pengukuran_3=suhu_24h[2]\n",
    "print(pengukuran_3)"
   ]
  },
  {
   "cell_type": "code",
   "execution_count": 27,
   "id": "11365ea5",
   "metadata": {},
   "outputs": [
    {
     "name": "stdout",
     "output_type": "stream",
     "text": [
      "29.0\n"
     ]
    }
   ],
   "source": [
    "pengukuran_terakhir=suhu_24h[-1]\n",
    "print(pengukuran_terakhir)"
   ]
  },
  {
   "cell_type": "code",
   "execution_count": 28,
   "id": "fecf4cc2",
   "metadata": {},
   "outputs": [
    {
     "name": "stdout",
     "output_type": "stream",
     "text": [
      "[34.0, 35.0]\n"
     ]
    }
   ],
   "source": [
    "pengukuran_1dan2=suhu_24h[0:2]\n",
    "print(pengukuran_1dan2)"
   ]
  },
  {
   "cell_type": "markdown",
   "id": "4ea1e6c6",
   "metadata": {},
   "source": [
    "Yang atas ini kayanya dia ngambil data dimulai dari indeks 0 dan jumlah data yang diambil adalah 2. Jadi yang keambil data berindeks 0 sama 1. Bukan 0 sama 2."
   ]
  },
  {
   "cell_type": "code",
   "execution_count": 38,
   "id": "4e578474",
   "metadata": {},
   "outputs": [
    {
     "name": "stdout",
     "output_type": "stream",
     "text": [
      "[37.0, 35.0, 34.3, 32.0, 31.1, 29.0]\n"
     ]
    }
   ],
   "source": [
    "suhu_24h[0]=37.0\n",
    "print(suhu_24h)"
   ]
  },
  {
   "cell_type": "markdown",
   "id": "1ae1ac9a",
   "metadata": {},
   "source": [
    "Ini mengganti elemen _list_ pada indeks tertentu"
   ]
  },
  {
   "cell_type": "code",
   "execution_count": 39,
   "id": "a1f4ff0f",
   "metadata": {},
   "outputs": [
    {
     "name": "stdout",
     "output_type": "stream",
     "text": [
      "list sebelum di-pop [37.0, 35.0, 34.3, 32.0, 31.1, 29.0]\n",
      "elemen yang dihapus 29.0\n",
      "list setelah di pop [37.0, 35.0, 34.3, 32.0, 31.1]\n",
      "elemen yang dihapus 32.0\n",
      "list setelah di pop lagi [37.0, 35.0, 34.3, 31.1]\n"
     ]
    }
   ],
   "source": [
    "print(\"list sebelum di-pop\", suhu_24h)\n",
    "elemen_hapus1=suhu_24h.pop()\n",
    "print(\"elemen yang dihapus\", elemen_hapus1)\n",
    "print(\"list setelah di pop\", suhu_24h)\n",
    "elemen_hapus2=suhu_24h.pop(-2)\n",
    "print(\"elemen yang dihapus\", elemen_hapus2)\n",
    "print(\"list setelah di pop lagi\", suhu_24h)"
   ]
  },
  {
   "cell_type": "markdown",
   "id": "20f5ec27",
   "metadata": {},
   "source": [
    "Jadi __pop__ itu kalau kosong menghapus elemen paling belakang. Kalau dikasih indeks, ya bakal menghapus sesuai indeksnya."
   ]
  },
  {
   "cell_type": "markdown",
   "id": "1b402535",
   "metadata": {},
   "source": [
    "  "
   ]
  },
  {
   "cell_type": "markdown",
   "id": "d2f14025",
   "metadata": {},
   "source": [
    "## 2.1 Tuple"
   ]
  },
  {
   "cell_type": "markdown",
   "id": "8ba9c923",
   "metadata": {},
   "source": [
    "Elemen yang isinya gak bisa diganti. Penandanya adalah tanda kurung lengkung ()."
   ]
  },
  {
   "cell_type": "code",
   "execution_count": 40,
   "id": "35332ceb",
   "metadata": {},
   "outputs": [
    {
     "name": "stdout",
     "output_type": "stream",
     "text": [
      "37.0\n"
     ]
    }
   ],
   "source": [
    "suhu_24h_lock=(37.0, 35.0, 34.3, 32.0, 31.1, 29.0)\n",
    "pengukuran_1=suhu_24h_lock[0]\n",
    "print(pengukuran_1)"
   ]
  },
  {
   "cell_type": "markdown",
   "id": "93e12632",
   "metadata": {},
   "source": [
    "Catatan : __mau manggil sesuatu dengan indeksnya, selalu pakai kurung siku!__\n",
    "\n",
    "Dibawah ini tanda kalau _tuple_ gak bisa diedit"
   ]
  },
  {
   "cell_type": "code",
   "execution_count": 41,
   "id": "833cf50f",
   "metadata": {},
   "outputs": [
    {
     "ename": "TypeError",
     "evalue": "'tuple' object does not support item assignment",
     "output_type": "error",
     "traceback": [
      "\u001b[1;31m---------------------------------------------------------------------------\u001b[0m",
      "\u001b[1;31mTypeError\u001b[0m                                 Traceback (most recent call last)",
      "\u001b[1;32m~\\AppData\\Local\\Temp/ipykernel_11632/2770928713.py\u001b[0m in \u001b[0;36m<module>\u001b[1;34m\u001b[0m\n\u001b[1;32m----> 1\u001b[1;33m \u001b[0msuhu_24h_lock\u001b[0m\u001b[1;33m[\u001b[0m\u001b[1;36m0\u001b[0m\u001b[1;33m]\u001b[0m\u001b[1;33m=\u001b[0m\u001b[1;36m29.0\u001b[0m\u001b[1;33m\u001b[0m\u001b[1;33m\u001b[0m\u001b[0m\n\u001b[0m",
      "\u001b[1;31mTypeError\u001b[0m: 'tuple' object does not support item assignment"
     ]
    }
   ],
   "source": [
    "suhu_24h_lock[0]=29.0"
   ]
  },
  {
   "cell_type": "markdown",
   "id": "2e34f761",
   "metadata": {},
   "source": [
    "Tuh error kan! :)"
   ]
  },
  {
   "cell_type": "markdown",
   "id": "a5c36b6d",
   "metadata": {},
   "source": [
    "  "
   ]
  },
  {
   "cell_type": "markdown",
   "id": "5069f11b",
   "metadata": {},
   "source": [
    "## 2.3 Sets"
   ]
  },
  {
   "cell_type": "markdown",
   "id": "313016b3",
   "metadata": {},
   "source": [
    "Elemen yang gak urut, tidak bisa diubah isinya, tapi bisanya ditambahkan dan pas di _run_ nanti akan jadi urut. Gak boleh ada yang duplikat. Penandanya kurung kurawal {}."
   ]
  },
  {
   "cell_type": "code",
   "execution_count": 42,
   "id": "f904ce94",
   "metadata": {},
   "outputs": [
    {
     "data": {
      "text/plain": [
       "{'bayam', 'seledri', 'tomat'}"
      ]
     },
     "execution_count": 42,
     "metadata": {},
     "output_type": "execute_result"
    }
   ],
   "source": [
    "sayur={\"seledri\", \"tomat\", \"bayam\"}\n",
    "sayur"
   ]
  },
  {
   "cell_type": "code",
   "execution_count": 46,
   "id": "1a62bba4",
   "metadata": {},
   "outputs": [
    {
     "name": "stdout",
     "output_type": "stream",
     "text": [
      "{'tomat', 'seledri', 'bayam'}\n"
     ]
    },
    {
     "data": {
      "text/plain": [
       "{'bayam', 'seledri', 'tomat'}"
      ]
     },
     "execution_count": 46,
     "metadata": {},
     "output_type": "execute_result"
    }
   ],
   "source": [
    "sayur={\"seledri\", \"tomat\", \"bayam\", \"tomat\"}\n",
    "print(sayur)\n",
    "sayur"
   ]
  },
  {
   "cell_type": "markdown",
   "id": "c3ce6abc",
   "metadata": {},
   "source": [
    "kalau di _run_ pakai __print__ sama ngetikkan variabelnya aja, beda hasil ternyata. Kalau __print__ dia dicetak sesuai yang dikasih, kalau variabelnya aja, dia bakal diurutkan. Dibawah ini cara nambahin elemen, bukan mengganti."
   ]
  },
  {
   "cell_type": "code",
   "execution_count": 47,
   "id": "c24c3d36",
   "metadata": {},
   "outputs": [
    {
     "data": {
      "text/plain": [
       "{'bayam', 'kol', 'seledri', 'tomat'}"
      ]
     },
     "execution_count": 47,
     "metadata": {},
     "output_type": "execute_result"
    }
   ],
   "source": [
    "sayur.add(\"kol\")\n",
    "sayur"
   ]
  },
  {
   "cell_type": "markdown",
   "id": "36bd0909",
   "metadata": {},
   "source": [
    "Dibawah ini adalah operasi dari \"sets\""
   ]
  },
  {
   "cell_type": "code",
   "execution_count": 48,
   "id": "cbe586a9",
   "metadata": {},
   "outputs": [
    {
     "data": {
      "text/plain": [
       "{'apel', 'jeruk', 'tomat'}"
      ]
     },
     "execution_count": 48,
     "metadata": {},
     "output_type": "execute_result"
    }
   ],
   "source": [
    "buah={\"tomat\", \"apel\", \"jeruk\"}\n",
    "buah"
   ]
  },
  {
   "cell_type": "markdown",
   "id": "e5eb44b1",
   "metadata": {},
   "source": [
    "Melihat dua elemen yg beririsan, berbeda, dan menggabungkan."
   ]
  },
  {
   "cell_type": "code",
   "execution_count": 49,
   "id": "0c480196",
   "metadata": {},
   "outputs": [
    {
     "data": {
      "text/plain": [
       "{'tomat'}"
      ]
     },
     "execution_count": 49,
     "metadata": {},
     "output_type": "execute_result"
    }
   ],
   "source": [
    "sayur.intersection(buah)"
   ]
  },
  {
   "cell_type": "code",
   "execution_count": 50,
   "id": "983c4462",
   "metadata": {},
   "outputs": [
    {
     "data": {
      "text/plain": [
       "{'bayam', 'kol', 'seledri'}"
      ]
     },
     "execution_count": 50,
     "metadata": {},
     "output_type": "execute_result"
    }
   ],
   "source": [
    "sayur.difference(buah)"
   ]
  },
  {
   "cell_type": "code",
   "execution_count": 51,
   "id": "fb0ad747",
   "metadata": {},
   "outputs": [
    {
     "data": {
      "text/plain": [
       "{'apel', 'bayam', 'jeruk', 'kol', 'seledri', 'tomat'}"
      ]
     },
     "execution_count": 51,
     "metadata": {},
     "output_type": "execute_result"
    }
   ],
   "source": [
    "sayur.union(buah)"
   ]
  },
  {
   "cell_type": "markdown",
   "id": "ed90f353",
   "metadata": {},
   "source": [
    "  "
   ]
  },
  {
   "cell_type": "markdown",
   "id": "4f53356e",
   "metadata": {},
   "source": [
    "## 2.4 Dictionary"
   ]
  },
  {
   "cell_type": "markdown",
   "id": "f1a301b7",
   "metadata": {},
   "source": [
    "Kaya judul data + isi datanya gitu, tapi dalam 1 variabel"
   ]
  },
  {
   "cell_type": "code",
   "execution_count": 52,
   "id": "f57e3500",
   "metadata": {},
   "outputs": [
    {
     "name": "stdout",
     "output_type": "stream",
     "text": [
      "{'waktu_menit': [10, 20, 30], 'suhu': [29, 30, 27]}\n"
     ]
    }
   ],
   "source": [
    "pengukuran_suhu={\"waktu_menit\":[10,20,30], \"suhu\":[29,30,27]}\n",
    "print(pengukuran_suhu)"
   ]
  },
  {
   "cell_type": "markdown",
   "id": "8f32be2b",
   "metadata": {},
   "source": [
    "\"waktu_menit\" sama \"suhu\" itu namanya _keys_ data. Nah kalau mau ambil data, bisanya pakai _keys_ itu, gak bisa pakai indeks kaya sebelumnya. Hasil pemanggilannya itu adalah _list_. Nah baru di _list_ itu bisa dipanggil pakai indeks"
   ]
  },
  {
   "cell_type": "code",
   "execution_count": 53,
   "id": "4ed77db5",
   "metadata": {},
   "outputs": [
    {
     "data": {
      "text/plain": [
       "[10, 20, 30]"
      ]
     },
     "execution_count": 53,
     "metadata": {},
     "output_type": "execute_result"
    }
   ],
   "source": [
    "waktu_pengukuran=pengukuran_suhu['waktu_menit']\n",
    "waktu_pengukuran"
   ]
  },
  {
   "cell_type": "code",
   "execution_count": 54,
   "id": "cd4f0c54",
   "metadata": {},
   "outputs": [
    {
     "data": {
      "text/plain": [
       "30"
      ]
     },
     "execution_count": 54,
     "metadata": {},
     "output_type": "execute_result"
    }
   ],
   "source": [
    "waktu_pengukuran[2]"
   ]
  },
  {
   "cell_type": "markdown",
   "id": "13e9c944",
   "metadata": {},
   "source": [
    "======================================================"
   ]
  },
  {
   "cell_type": "markdown",
   "id": "c2b3a661",
   "metadata": {},
   "source": [
    "# Conditional"
   ]
  },
  {
   "cell_type": "code",
   "execution_count": 1,
   "id": "c5e78f08",
   "metadata": {},
   "outputs": [
    {
     "name": "stdout",
     "output_type": "stream",
     "text": [
      "pengukuran lebih dari 1 jam\n"
     ]
    }
   ],
   "source": [
    "waktu_menit=70\n",
    "if waktu_menit > 60:\n",
    "    print(\"pengukuran lebih dari 1 jam\")"
   ]
  },
  {
   "cell_type": "code",
   "execution_count": 3,
   "id": "af6254d8",
   "metadata": {},
   "outputs": [
    {
     "name": "stdout",
     "output_type": "stream",
     "text": [
      "pengukuran kurang dari 1 jam\n"
     ]
    }
   ],
   "source": [
    "waktu_menit=10\n",
    "if waktu_menit > 60:\n",
    "    print(\"pengukuran lebih dari 1 jam\")\n",
    "else:\n",
    "    print(\"pengukuran kurang dari 1 jam\")"
   ]
  },
  {
   "cell_type": "code",
   "execution_count": 4,
   "id": "75a84471",
   "metadata": {},
   "outputs": [
    {
     "name": "stdout",
     "output_type": "stream",
     "text": [
      "pengukuran tepat 1 jam\n"
     ]
    }
   ],
   "source": [
    "waktu_menit=60\n",
    "if waktu_menit > 60:\n",
    "    print(\"pengukuran lebih dari 1 jam\")\n",
    "elif waktu_menit == 60:\n",
    "    print(\"pengukuran tepat 1 jam\")\n",
    "else:\n",
    "    print(\"pengukuran kurang dari 1 jam\")"
   ]
  },
  {
   "cell_type": "markdown",
   "id": "97525076",
   "metadata": {},
   "source": [
    "Sekarang coba kondisinya dibuat bertingkat."
   ]
  },
  {
   "cell_type": "code",
   "execution_count": 5,
   "id": "1363cb82",
   "metadata": {},
   "outputs": [
    {
     "name": "stdout",
     "output_type": "stream",
     "text": [
      "pengukuran selesai karena sudah 2 jam\n"
     ]
    }
   ],
   "source": [
    "waktu_menit=130\n",
    "timer_off=120\n",
    "\n",
    "if waktu_menit > 60:\n",
    "    if waktu_menit < timer_off:\n",
    "        print(\"pengukuran lebih dari 1 jam\")\n",
    "    else:\n",
    "        print(\"pengukuran selesai karena sudah 2 jam\")\n",
    "elif waktu_menit == 60:\n",
    "    print(\"pengukuran tepat 1 jam\")\n",
    "else:\n",
    "    print(\"pengukuran kurang dari 1 jam\")"
   ]
  },
  {
   "cell_type": "markdown",
   "id": "a9ba8034",
   "metadata": {},
   "source": [
    "======================================================"
   ]
  },
  {
   "cell_type": "markdown",
   "id": "56e76b65",
   "metadata": {},
   "source": [
    "# Loop (Perulangan)"
   ]
  },
  {
   "cell_type": "code",
   "execution_count": 8,
   "id": "3e3ad663",
   "metadata": {},
   "outputs": [
    {
     "name": "stdout",
     "output_type": "stream",
     "text": [
      "Suhu sekarang adalah: 34.0\n",
      "Suhu sekarang adalah: 35.0\n",
      "Suhu sekarang adalah: 34.3\n",
      "Suhu sekarang adalah: 32.0\n",
      "Suhu sekarang adalah: 31.1\n",
      "Suhu sekarang adalah: 29.0\n"
     ]
    }
   ],
   "source": [
    "for elemen in suhu_24h:\n",
    "    print(\"Suhu sekarang adalah:\", elemen)"
   ]
  },
  {
   "cell_type": "markdown",
   "id": "36b253ec",
   "metadata": {},
   "source": [
    "Ini biar perulangannya ada jeda 1 detik, sehingga kelihatan kalau ngeprintnya satu persatu."
   ]
  },
  {
   "cell_type": "code",
   "execution_count": 9,
   "id": "2e246c46",
   "metadata": {},
   "outputs": [
    {
     "name": "stdout",
     "output_type": "stream",
     "text": [
      "Suhu sekarang adalah 34.0\n",
      "Suhu sekarang adalah 35.0\n",
      "Suhu sekarang adalah 34.3\n",
      "Suhu sekarang adalah 32.0\n",
      "Suhu sekarang adalah 31.1\n",
      "Suhu sekarang adalah 29.0\n"
     ]
    }
   ],
   "source": [
    "import time\n",
    "for elemen in suhu_24h:\n",
    "    print(\"Suhu sekarang adalah\", elemen)\n",
    "    time.sleep(1)"
   ]
  },
  {
   "cell_type": "code",
   "execution_count": 10,
   "id": "1081b432",
   "metadata": {},
   "outputs": [
    {
     "name": "stdout",
     "output_type": "stream",
     "text": [
      "Suhu sekarang adalah 307.0\n",
      "Suhu sekarang adalah 308.0\n",
      "Suhu sekarang adalah 307.3\n",
      "Suhu sekarang adalah 305.0\n",
      "Suhu sekarang adalah 304.1\n",
      "Suhu sekarang adalah 302.0\n"
     ]
    }
   ],
   "source": [
    "for elemen in suhu_24h:\n",
    "    suhu_kelvin=elemen+273\n",
    "    print(\"Suhu sekarang adalah\", suhu_kelvin)\n",
    "    time.sleep(1)"
   ]
  },
  {
   "cell_type": "code",
   "execution_count": 11,
   "id": "26fd278a",
   "metadata": {},
   "outputs": [
    {
     "name": "stdout",
     "output_type": "stream",
     "text": [
      "Pukul:  1 lebih:  0 menit\n",
      "Pukul:  1 lebih:  10 menit\n",
      "Pukul:  1 lebih:  20 menit\n",
      "Pukul:  1 lebih:  30 menit\n",
      "Pukul:  1 lebih:  40 menit\n",
      "Pukul:  1 lebih:  50 menit\n",
      "Pukul:  2 lebih:  0 menit\n",
      "Pukul:  2 lebih:  10 menit\n",
      "Pukul:  2 lebih:  20 menit\n",
      "Pukul:  2 lebih:  30 menit\n",
      "Pukul:  2 lebih:  40 menit\n",
      "Pukul:  2 lebih:  50 menit\n",
      "Pukul:  3 lebih:  0 menit\n",
      "Pukul:  3 lebih:  10 menit\n",
      "Pukul:  3 lebih:  20 menit\n",
      "Pukul:  3 lebih:  30 menit\n",
      "Pukul:  3 lebih:  40 menit\n",
      "Pukul:  3 lebih:  50 menit\n"
     ]
    }
   ],
   "source": [
    "menit=[0,10,20,30,40,50]\n",
    "jam=[1,2,3]\n",
    "\n",
    "for j in jam:\n",
    "    for m in menit:\n",
    "        print(\"Pukul: \",j,\"lebih: \",m,\"menit\")\n",
    "        time.sleep(1)"
   ]
  },
  {
   "cell_type": "markdown",
   "id": "95939fbd",
   "metadata": {},
   "source": [
    "======================================================"
   ]
  },
  {
   "cell_type": "markdown",
   "id": "56280f09",
   "metadata": {},
   "source": [
    "# Fungsi dan Modul"
   ]
  },
  {
   "cell_type": "code",
   "execution_count": 12,
   "id": "34ff6237",
   "metadata": {},
   "outputs": [
    {
     "name": "stdout",
     "output_type": "stream",
     "text": [
      "Suhu pertama dalam C:  34.0\n",
      "Suhu pertama dalam F:  93.2\n"
     ]
    }
   ],
   "source": [
    "suhu_pertama_c=suhu_24h[0]\n",
    "suhu_pertama_f=(9/5*suhu_pertama_c)+32\n",
    "\n",
    "print(\"Suhu pertama dalam C: \", suhu_pertama_c)\n",
    "print(\"Suhu pertama dalam F: \", suhu_pertama_f)"
   ]
  },
  {
   "cell_type": "code",
   "execution_count": 13,
   "id": "6f6dcdfb",
   "metadata": {},
   "outputs": [
    {
     "name": "stdout",
     "output_type": "stream",
     "text": [
      "Suhu kedua dalam C:  34.0\n",
      "Suhu kedua dalam F:  93.2\n"
     ]
    }
   ],
   "source": [
    "suhu_kedua_c=suhu_24h[0]\n",
    "suhu_kedua_f=(9/5*suhu_pertama_c)+32\n",
    "\n",
    "print(\"Suhu kedua dalam C: \", suhu_pertama_c)\n",
    "print(\"Suhu kedua dalam F: \", suhu_pertama_f)"
   ]
  },
  {
   "cell_type": "markdown",
   "id": "818e2088",
   "metadata": {},
   "source": [
    "  "
   ]
  },
  {
   "cell_type": "markdown",
   "id": "413bdfb8",
   "metadata": {},
   "source": [
    "## 5.1 Fungsi"
   ]
  },
  {
   "cell_type": "markdown",
   "id": "4f4f1863",
   "metadata": {},
   "source": [
    "Dibawah ini adalah cara mendefinisikan sebuah fungsi. \n",
    "celcius_to_fahrenheit  = variabel y\n",
    "suhu_celcius = variabel x\n",
    "suhu_fahrenheit = nama fungsinya aja"
   ]
  },
  {
   "cell_type": "code",
   "execution_count": 14,
   "id": "323ff038",
   "metadata": {},
   "outputs": [],
   "source": [
    "def celcius_to_fahrenheit(suhu_celcius):\n",
    "    suhu_fahrenheit=(9/5*suhu_celcius)+32\n",
    "    return suhu_fahrenheit"
   ]
  },
  {
   "cell_type": "markdown",
   "id": "774d6373",
   "metadata": {},
   "source": [
    "Dibawah ini cara menggunakan fungsinya. Yaitu dengan menentukan x nya dalam variabel suhu_celcius. Terus y nya juga ditentukan dalam variabel suhu_fahrenheit. Lalu di print."
   ]
  },
  {
   "cell_type": "code",
   "execution_count": 15,
   "id": "8e9dc25f",
   "metadata": {},
   "outputs": [
    {
     "name": "stdout",
     "output_type": "stream",
     "text": [
      "50.0\n"
     ]
    }
   ],
   "source": [
    "suhu_celcius=10\n",
    "suhu_fahrenheit=celcius_to_fahrenheit(suhu_celcius)\n",
    "print(suhu_fahrenheit)"
   ]
  },
  {
   "cell_type": "markdown",
   "id": "71b45ecb",
   "metadata": {},
   "source": [
    "Dibawah ini cara menggunakan yang kedua, langsung dimasukkan x nya kedalam y"
   ]
  },
  {
   "cell_type": "code",
   "execution_count": 16,
   "id": "0e860cce",
   "metadata": {},
   "outputs": [
    {
     "data": {
      "text/plain": [
       "50.0"
      ]
     },
     "execution_count": 16,
     "metadata": {},
     "output_type": "execute_result"
    }
   ],
   "source": [
    "celcius_to_fahrenheit(10)"
   ]
  },
  {
   "cell_type": "markdown",
   "id": "c012ccca",
   "metadata": {},
   "source": [
    "Agar fungsinya punya cara menggunakan, maka kita bisa menambahkan seperti ini."
   ]
  },
  {
   "cell_type": "code",
   "execution_count": 17,
   "id": "282d6acb",
   "metadata": {},
   "outputs": [],
   "source": [
    "def celcius_to_fahrenheit(suhu_celcius):\n",
    "    \"\"\"Fungsi konversi suhu Celcius ke Fahrenheit\n",
    "    Argument:\n",
    "         suhu_celcius (float/int): Suhu dalam celcius yang akan dikonversi\n",
    "    Return: \n",
    "         suhu_fahrenheit (float) : Hasil konversi berupa suhu dalam Fahrenheit\"\"\"\n",
    "    suhu_fahrenheit=(9/5*suhu_celcius)+32\n",
    "    return suhu_fahrenheit"
   ]
  },
  {
   "cell_type": "markdown",
   "id": "6616bedf",
   "metadata": {},
   "source": [
    "Cara mengakses manualnya adalah sebagai berikut:"
   ]
  },
  {
   "cell_type": "code",
   "execution_count": 18,
   "id": "24dd7537",
   "metadata": {},
   "outputs": [],
   "source": [
    "#Cara pertama\n",
    "celcius_to_fahrenheit?"
   ]
  },
  {
   "cell_type": "code",
   "execution_count": 19,
   "id": "c9d8369e",
   "metadata": {},
   "outputs": [
    {
     "name": "stdout",
     "output_type": "stream",
     "text": [
      "Help on function celcius_to_fahrenheit in module __main__:\n",
      "\n",
      "celcius_to_fahrenheit(suhu_celcius)\n",
      "    Fungsi konversi suhu Celcius ke Fahrenheit\n",
      "    Argument:\n",
      "         suhu_celcius (float/int): Suhu dalam celcius yang akan dikonversi\n",
      "    Return: \n",
      "         suhu_fahrenheit (float) : Hasil konversi berupa suhu dalam Fahrenheit\n",
      "\n"
     ]
    }
   ],
   "source": [
    "#Cara kedua\n",
    "help(celcius_to_fahrenheit)"
   ]
  },
  {
   "cell_type": "markdown",
   "id": "102e41eb",
   "metadata": {},
   "source": [
    "  "
   ]
  },
  {
   "cell_type": "markdown",
   "id": "3e2fa8bc",
   "metadata": {},
   "source": [
    "## 5.2 Modul"
   ]
  },
  {
   "cell_type": "markdown",
   "id": "8e1f3122",
   "metadata": {},
   "source": [
    "__MEMBUAT MODUL GAES__\n",
    "\n",
    "Tadi kita sudah simpan modul temperature_conversion.py ke folder _Utilities_. Sekarang kita coba untuk menjalankan modulnya."
   ]
  },
  {
   "cell_type": "code",
   "execution_count": 21,
   "id": "23223a7b",
   "metadata": {},
   "outputs": [],
   "source": [
    "import utilities.temperature_conversion as t_c"
   ]
  },
  {
   "cell_type": "markdown",
   "id": "3a029235",
   "metadata": {},
   "source": [
    "IT WORKED! _utilities_ di depannya menunjukkan letak folder dari modulnya."
   ]
  },
  {
   "cell_type": "code",
   "execution_count": 22,
   "id": "f4ab7d54",
   "metadata": {},
   "outputs": [
    {
     "data": {
      "text/plain": [
       "50.0"
      ]
     },
     "execution_count": 22,
     "metadata": {},
     "output_type": "execute_result"
    }
   ],
   "source": [
    "t_c.celcius_to_fahrenheit(10)"
   ]
  },
  {
   "cell_type": "markdown",
   "id": "06e2e041",
   "metadata": {},
   "source": [
    "Tadi kan kita sudah coba untuk menambah fungsi celcius ke fahrenheit di modulnya. Jadi modulnya harus di _reload_ lagi sebelum akan digunakan kembali. Cara _reload_ nya adalah"
   ]
  },
  {
   "cell_type": "code",
   "execution_count": 27,
   "id": "20c56ac0",
   "metadata": {},
   "outputs": [
    {
     "data": {
      "text/plain": [
       "<module 'utilities.temperature_conversion' from 'D:\\\\LongCourseITG\\\\Minggu1\\\\utilities\\\\temperature_conversion.py'>"
      ]
     },
     "execution_count": 27,
     "metadata": {},
     "output_type": "execute_result"
    }
   ],
   "source": [
    "from importlib import reload\n",
    "\n",
    "reload(t_c)"
   ]
  },
  {
   "cell_type": "code",
   "execution_count": 28,
   "id": "80da27e0",
   "metadata": {},
   "outputs": [
    {
     "data": {
      "text/plain": [
       "10.0"
      ]
     },
     "execution_count": 28,
     "metadata": {},
     "output_type": "execute_result"
    }
   ],
   "source": [
    "t_c.fahrenheit_to_celcius(50)"
   ]
  },
  {
   "cell_type": "markdown",
   "id": "3c91f999",
   "metadata": {},
   "source": [
    "__PAKAI MODUL BAWAAN PYTHON__"
   ]
  },
  {
   "cell_type": "code",
   "execution_count": 2,
   "id": "f773fef2",
   "metadata": {
    "scrolled": false
   },
   "outputs": [
    {
     "name": "stdout",
     "output_type": "stream",
     "text": [
      "Help on built-in module math:\n",
      "\n",
      "NAME\n",
      "    math\n",
      "\n",
      "DESCRIPTION\n",
      "    This module provides access to the mathematical functions\n",
      "    defined by the C standard.\n",
      "\n",
      "FUNCTIONS\n",
      "    acos(x, /)\n",
      "        Return the arc cosine (measured in radians) of x.\n",
      "        \n",
      "        The result is between 0 and pi.\n",
      "    \n",
      "    acosh(x, /)\n",
      "        Return the inverse hyperbolic cosine of x.\n",
      "    \n",
      "    asin(x, /)\n",
      "        Return the arc sine (measured in radians) of x.\n",
      "        \n",
      "        The result is between -pi/2 and pi/2.\n",
      "    \n",
      "    asinh(x, /)\n",
      "        Return the inverse hyperbolic sine of x.\n",
      "    \n",
      "    atan(x, /)\n",
      "        Return the arc tangent (measured in radians) of x.\n",
      "        \n",
      "        The result is between -pi/2 and pi/2.\n",
      "    \n",
      "    atan2(y, x, /)\n",
      "        Return the arc tangent (measured in radians) of y/x.\n",
      "        \n",
      "        Unlike atan(y/x), the signs of both x and y are considered.\n",
      "    \n",
      "    atanh(x, /)\n",
      "        Return the inverse hyperbolic tangent of x.\n",
      "    \n",
      "    ceil(x, /)\n",
      "        Return the ceiling of x as an Integral.\n",
      "        \n",
      "        This is the smallest integer >= x.\n",
      "    \n",
      "    comb(n, k, /)\n",
      "        Number of ways to choose k items from n items without repetition and without order.\n",
      "        \n",
      "        Evaluates to n! / (k! * (n - k)!) when k <= n and evaluates\n",
      "        to zero when k > n.\n",
      "        \n",
      "        Also called the binomial coefficient because it is equivalent\n",
      "        to the coefficient of k-th term in polynomial expansion of the\n",
      "        expression (1 + x)**n.\n",
      "        \n",
      "        Raises TypeError if either of the arguments are not integers.\n",
      "        Raises ValueError if either of the arguments are negative.\n",
      "    \n",
      "    copysign(x, y, /)\n",
      "        Return a float with the magnitude (absolute value) of x but the sign of y.\n",
      "        \n",
      "        On platforms that support signed zeros, copysign(1.0, -0.0)\n",
      "        returns -1.0.\n",
      "    \n",
      "    cos(x, /)\n",
      "        Return the cosine of x (measured in radians).\n",
      "    \n",
      "    cosh(x, /)\n",
      "        Return the hyperbolic cosine of x.\n",
      "    \n",
      "    degrees(x, /)\n",
      "        Convert angle x from radians to degrees.\n",
      "    \n",
      "    dist(p, q, /)\n",
      "        Return the Euclidean distance between two points p and q.\n",
      "        \n",
      "        The points should be specified as sequences (or iterables) of\n",
      "        coordinates.  Both inputs must have the same dimension.\n",
      "        \n",
      "        Roughly equivalent to:\n",
      "            sqrt(sum((px - qx) ** 2.0 for px, qx in zip(p, q)))\n",
      "    \n",
      "    erf(x, /)\n",
      "        Error function at x.\n",
      "    \n",
      "    erfc(x, /)\n",
      "        Complementary error function at x.\n",
      "    \n",
      "    exp(x, /)\n",
      "        Return e raised to the power of x.\n",
      "    \n",
      "    expm1(x, /)\n",
      "        Return exp(x)-1.\n",
      "        \n",
      "        This function avoids the loss of precision involved in the direct evaluation of exp(x)-1 for small x.\n",
      "    \n",
      "    fabs(x, /)\n",
      "        Return the absolute value of the float x.\n",
      "    \n",
      "    factorial(x, /)\n",
      "        Find x!.\n",
      "        \n",
      "        Raise a ValueError if x is negative or non-integral.\n",
      "    \n",
      "    floor(x, /)\n",
      "        Return the floor of x as an Integral.\n",
      "        \n",
      "        This is the largest integer <= x.\n",
      "    \n",
      "    fmod(x, y, /)\n",
      "        Return fmod(x, y), according to platform C.\n",
      "        \n",
      "        x % y may differ.\n",
      "    \n",
      "    frexp(x, /)\n",
      "        Return the mantissa and exponent of x, as pair (m, e).\n",
      "        \n",
      "        m is a float and e is an int, such that x = m * 2.**e.\n",
      "        If x is 0, m and e are both 0.  Else 0.5 <= abs(m) < 1.0.\n",
      "    \n",
      "    fsum(seq, /)\n",
      "        Return an accurate floating point sum of values in the iterable seq.\n",
      "        \n",
      "        Assumes IEEE-754 floating point arithmetic.\n",
      "    \n",
      "    gamma(x, /)\n",
      "        Gamma function at x.\n",
      "    \n",
      "    gcd(*integers)\n",
      "        Greatest Common Divisor.\n",
      "    \n",
      "    hypot(...)\n",
      "        hypot(*coordinates) -> value\n",
      "        \n",
      "        Multidimensional Euclidean distance from the origin to a point.\n",
      "        \n",
      "        Roughly equivalent to:\n",
      "            sqrt(sum(x**2 for x in coordinates))\n",
      "        \n",
      "        For a two dimensional point (x, y), gives the hypotenuse\n",
      "        using the Pythagorean theorem:  sqrt(x*x + y*y).\n",
      "        \n",
      "        For example, the hypotenuse of a 3/4/5 right triangle is:\n",
      "        \n",
      "            >>> hypot(3.0, 4.0)\n",
      "            5.0\n",
      "    \n",
      "    isclose(a, b, *, rel_tol=1e-09, abs_tol=0.0)\n",
      "        Determine whether two floating point numbers are close in value.\n",
      "        \n",
      "          rel_tol\n",
      "            maximum difference for being considered \"close\", relative to the\n",
      "            magnitude of the input values\n",
      "          abs_tol\n",
      "            maximum difference for being considered \"close\", regardless of the\n",
      "            magnitude of the input values\n",
      "        \n",
      "        Return True if a is close in value to b, and False otherwise.\n",
      "        \n",
      "        For the values to be considered close, the difference between them\n",
      "        must be smaller than at least one of the tolerances.\n",
      "        \n",
      "        -inf, inf and NaN behave similarly to the IEEE 754 Standard.  That\n",
      "        is, NaN is not close to anything, even itself.  inf and -inf are\n",
      "        only close to themselves.\n",
      "    \n",
      "    isfinite(x, /)\n",
      "        Return True if x is neither an infinity nor a NaN, and False otherwise.\n",
      "    \n",
      "    isinf(x, /)\n",
      "        Return True if x is a positive or negative infinity, and False otherwise.\n",
      "    \n",
      "    isnan(x, /)\n",
      "        Return True if x is a NaN (not a number), and False otherwise.\n",
      "    \n",
      "    isqrt(n, /)\n",
      "        Return the integer part of the square root of the input.\n",
      "    \n",
      "    lcm(*integers)\n",
      "        Least Common Multiple.\n",
      "    \n",
      "    ldexp(x, i, /)\n",
      "        Return x * (2**i).\n",
      "        \n",
      "        This is essentially the inverse of frexp().\n",
      "    \n",
      "    lgamma(x, /)\n",
      "        Natural logarithm of absolute value of Gamma function at x.\n",
      "    \n",
      "    log(...)\n",
      "        log(x, [base=math.e])\n",
      "        Return the logarithm of x to the given base.\n",
      "        \n",
      "        If the base not specified, returns the natural logarithm (base e) of x.\n",
      "    \n",
      "    log10(x, /)\n",
      "        Return the base 10 logarithm of x.\n",
      "    \n",
      "    log1p(x, /)\n",
      "        Return the natural logarithm of 1+x (base e).\n",
      "        \n",
      "        The result is computed in a way which is accurate for x near zero.\n",
      "    \n",
      "    log2(x, /)\n",
      "        Return the base 2 logarithm of x.\n",
      "    \n",
      "    modf(x, /)\n",
      "        Return the fractional and integer parts of x.\n",
      "        \n",
      "        Both results carry the sign of x and are floats.\n",
      "    \n",
      "    nextafter(x, y, /)\n",
      "        Return the next floating-point value after x towards y.\n",
      "    \n",
      "    perm(n, k=None, /)\n",
      "        Number of ways to choose k items from n items without repetition and with order.\n",
      "        \n",
      "        Evaluates to n! / (n - k)! when k <= n and evaluates\n",
      "        to zero when k > n.\n",
      "        \n",
      "        If k is not specified or is None, then k defaults to n\n",
      "        and the function returns n!.\n",
      "        \n",
      "        Raises TypeError if either of the arguments are not integers.\n",
      "        Raises ValueError if either of the arguments are negative.\n",
      "    \n",
      "    pow(x, y, /)\n",
      "        Return x**y (x to the power of y).\n",
      "    \n",
      "    prod(iterable, /, *, start=1)\n",
      "        Calculate the product of all the elements in the input iterable.\n",
      "        \n",
      "        The default start value for the product is 1.\n",
      "        \n",
      "        When the iterable is empty, return the start value.  This function is\n",
      "        intended specifically for use with numeric values and may reject\n",
      "        non-numeric types.\n",
      "    \n",
      "    radians(x, /)\n",
      "        Convert angle x from degrees to radians.\n",
      "    \n",
      "    remainder(x, y, /)\n",
      "        Difference between x and the closest integer multiple of y.\n",
      "        \n",
      "        Return x - n*y where n*y is the closest integer multiple of y.\n",
      "        In the case where x is exactly halfway between two multiples of\n",
      "        y, the nearest even value of n is used. The result is always exact.\n",
      "    \n",
      "    sin(x, /)\n",
      "        Return the sine of x (measured in radians).\n",
      "    \n",
      "    sinh(x, /)\n",
      "        Return the hyperbolic sine of x.\n",
      "    \n",
      "    sqrt(x, /)\n",
      "        Return the square root of x.\n",
      "    \n",
      "    tan(x, /)\n",
      "        Return the tangent of x (measured in radians).\n",
      "    \n",
      "    tanh(x, /)\n",
      "        Return the hyperbolic tangent of x.\n",
      "    \n",
      "    trunc(x, /)\n",
      "        Truncates the Real x to the nearest Integral toward 0.\n",
      "        \n",
      "        Uses the __trunc__ magic method.\n",
      "    \n",
      "    ulp(x, /)\n",
      "        Return the value of the least significant bit of the float x.\n",
      "\n",
      "DATA\n",
      "    e = 2.718281828459045\n",
      "    inf = inf\n",
      "    nan = nan\n",
      "    pi = 3.141592653589793\n",
      "    tau = 6.283185307179586\n",
      "\n",
      "FILE\n",
      "    (built-in)\n",
      "\n",
      "\n"
     ]
    }
   ],
   "source": [
    "import math\n",
    "help(math)"
   ]
  },
  {
   "cell_type": "code",
   "execution_count": 3,
   "id": "d002b7c7",
   "metadata": {},
   "outputs": [
    {
     "data": {
      "text/plain": [
       "3.141592653589793"
      ]
     },
     "execution_count": 3,
     "metadata": {},
     "output_type": "execute_result"
    }
   ],
   "source": [
    "math.pi"
   ]
  },
  {
   "cell_type": "code",
   "execution_count": 4,
   "id": "735b200a",
   "metadata": {},
   "outputs": [
    {
     "data": {
      "text/plain": [
       "3.141592653589793"
      ]
     },
     "execution_count": 4,
     "metadata": {},
     "output_type": "execute_result"
    }
   ],
   "source": [
    "import math as matematika\n",
    "\n",
    "matematika.pi"
   ]
  },
  {
   "cell_type": "code",
   "execution_count": 5,
   "id": "d404495e",
   "metadata": {},
   "outputs": [
    {
     "data": {
      "text/plain": [
       "3.0"
      ]
     },
     "execution_count": 5,
     "metadata": {},
     "output_type": "execute_result"
    }
   ],
   "source": [
    "matematika.log10(1000)"
   ]
  },
  {
   "cell_type": "code",
   "execution_count": 6,
   "id": "8fd9e18a",
   "metadata": {},
   "outputs": [
    {
     "name": "stdout",
     "output_type": "stream",
     "text": [
      "0.8660254037844386\n"
     ]
    }
   ],
   "source": [
    "from math import radians, sin, cos, tan\n",
    "\n",
    "sudut=60\n",
    "sudut_radian=radians(sudut)\n",
    "sin_sudut=sin(sudut_radian)\n",
    "print(sin_sudut)"
   ]
  },
  {
   "cell_type": "markdown",
   "id": "355b5475",
   "metadata": {},
   "source": [
    "__PAKAI MODUL INSTALL DARI LUAR PYTHON__"
   ]
  },
  {
   "cell_type": "code",
   "execution_count": 2,
   "id": "ec7006f4",
   "metadata": {},
   "outputs": [
    {
     "data": {
      "text/plain": [
       "array([  0,  10,  20,  30,  40,  50,  60,  70,  80,  90, 100, 110, 120,\n",
       "       130, 140, 150, 160, 170, 180, 190, 200, 210, 220, 230, 240, 250,\n",
       "       260, 270, 280, 290, 300, 310, 320, 330, 340, 350])"
      ]
     },
     "execution_count": 2,
     "metadata": {},
     "output_type": "execute_result"
    }
   ],
   "source": [
    "import numpy as np\n",
    "\n",
    "sudut=np.arange(0,360,10)\n",
    "sudut"
   ]
  },
  {
   "cell_type": "code",
   "execution_count": 3,
   "id": "4bb1fc8b",
   "metadata": {},
   "outputs": [
    {
     "data": {
      "text/plain": [
       "array([0.        , 0.17453293, 0.34906585, 0.52359878, 0.6981317 ,\n",
       "       0.87266463, 1.04719755, 1.22173048, 1.3962634 , 1.57079633,\n",
       "       1.74532925, 1.91986218, 2.0943951 , 2.26892803, 2.44346095,\n",
       "       2.61799388, 2.7925268 , 2.96705973, 3.14159265, 3.31612558,\n",
       "       3.4906585 , 3.66519143, 3.83972435, 4.01425728, 4.1887902 ,\n",
       "       4.36332313, 4.53785606, 4.71238898, 4.88692191, 5.06145483,\n",
       "       5.23598776, 5.41052068, 5.58505361, 5.75958653, 5.93411946,\n",
       "       6.10865238])"
      ]
     },
     "execution_count": 3,
     "metadata": {},
     "output_type": "execute_result"
    }
   ],
   "source": [
    "sudut_radian=np.radians(sudut)\n",
    "sudut_radian"
   ]
  },
  {
   "cell_type": "code",
   "execution_count": 4,
   "id": "cce1f306",
   "metadata": {},
   "outputs": [
    {
     "data": {
      "text/plain": [
       "array([ 0.00000000e+00,  1.73648178e-01,  3.42020143e-01,  5.00000000e-01,\n",
       "        6.42787610e-01,  7.66044443e-01,  8.66025404e-01,  9.39692621e-01,\n",
       "        9.84807753e-01,  1.00000000e+00,  9.84807753e-01,  9.39692621e-01,\n",
       "        8.66025404e-01,  7.66044443e-01,  6.42787610e-01,  5.00000000e-01,\n",
       "        3.42020143e-01,  1.73648178e-01,  1.22464680e-16, -1.73648178e-01,\n",
       "       -3.42020143e-01, -5.00000000e-01, -6.42787610e-01, -7.66044443e-01,\n",
       "       -8.66025404e-01, -9.39692621e-01, -9.84807753e-01, -1.00000000e+00,\n",
       "       -9.84807753e-01, -9.39692621e-01, -8.66025404e-01, -7.66044443e-01,\n",
       "       -6.42787610e-01, -5.00000000e-01, -3.42020143e-01, -1.73648178e-01])"
      ]
     },
     "execution_count": 4,
     "metadata": {},
     "output_type": "execute_result"
    }
   ],
   "source": [
    "sinus=np.sin(sudut_radian)\n",
    "sinus"
   ]
  },
  {
   "cell_type": "code",
   "execution_count": 5,
   "id": "4598d34e",
   "metadata": {},
   "outputs": [
    {
     "data": {
      "text/plain": [
       "[<matplotlib.lines.Line2D at 0x1ec457ebfd0>]"
      ]
     },
     "execution_count": 5,
     "metadata": {},
     "output_type": "execute_result"
    },
    {
     "data": {
      "image/png": "[encoded data removed]",
      "text/plain": [
       "<Figure size 432x288 with 1 Axes>"
      ]
     },
     "metadata": {
      "needs_background": "light"
     },
     "output_type": "display_data"
    }
   ],
   "source": [
    "import matplotlib.pyplot as plt\n",
    "\n",
    "plt.plot(sudut,sinus)"
   ]
  },
  {
   "cell_type": "code",
   "execution_count": null,
   "id": "11f30691",
   "metadata": {},
   "outputs": [],
   "source": []
  }
 ],
 "metadata": {
  "kernelspec": {
   "display_name": "Python 3 (ipykernel)",
   "language": "python",
   "name": "python3"
  },
  "language_info": {
   "codemirror_mode": {
    "name": "ipython",
    "version": 3
   },
   "file_extension": ".py",
   "mimetype": "text/x-python",
   "name": "python",
   "nbconvert_exporter": "python",
   "pygments_lexer": "ipython3",
   "version": "3.9.7"
  }
 },
 "nbformat": 4,
 "nbformat_minor": 5
}
